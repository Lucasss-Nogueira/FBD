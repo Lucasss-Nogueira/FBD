{
 "cells": [
  {
   "cell_type": "code",
   "execution_count": 17,
   "metadata": {},
   "outputs": [
    {
     "name": "stdout",
     "output_type": "stream",
     "text": [
      "1\n",
      "Os seguintes Álbuns e suas faixas estão presentes no banco de dados:\n",
      "\n",
      "Código do Álbum: 2  Descrição do álbum: album mt paia  Número da faixa: 1 Nome da faixa: HelloMusic\n",
      "\n"
     ]
    },
    {
     "ename": "IntegrityError",
     "evalue": "('23000', '[23000] [Microsoft][ODBC Driver 17 for SQL Server][SQL Server]A instrução INSERT conflitou com a restrição do FOREIGN KEY \"fk_cod_playlist_Faixa_Playlist\". O conflito ocorreu no banco de dados \"SpotPer\", tabela \"dbo.playlist\", column \\'cod_playlist\\'. (547) (SQLExecDirectW); [23000] [Microsoft][ODBC Driver 17 for SQL Server][SQL Server]A instrução foi finalizada. (3621)')",
     "output_type": "error",
     "traceback": [
      "\u001b[1;31m---------------------------------------------------------------------------\u001b[0m",
      "\u001b[1;31mIntegrityError\u001b[0m                            Traceback (most recent call last)",
      "Cell \u001b[1;32mIn [17], line 54\u001b[0m\n\u001b[0;32m     52\u001b[0m \u001b[39mif\u001b[39;00m (state\u001b[39m==\u001b[39m\u001b[39m'\u001b[39m\u001b[39m1\u001b[39m\u001b[39m'\u001b[39m):\n\u001b[0;32m     53\u001b[0m     \u001b[39mprint\u001b[39m(state)\n\u001b[1;32m---> 54\u001b[0m     criarPlaylist()\n\u001b[0;32m     55\u001b[0m \u001b[39melif\u001b[39;00m (state\u001b[39m==\u001b[39m\u001b[39m'\u001b[39m\u001b[39m2\u001b[39m\u001b[39m'\u001b[39m):\n\u001b[0;32m     56\u001b[0m     alterarPlaylist()\n",
      "Cell \u001b[1;32mIn [17], line 25\u001b[0m, in \u001b[0;36mcriarPlaylist\u001b[1;34m()\u001b[0m\n\u001b[0;32m     23\u001b[0m faixas\u001b[39m=\u001b[39m(\u001b[39minput\u001b[39m(\u001b[39m'\u001b[39m\u001b[39mInforme quais faixas do Álbum \u001b[39m\u001b[39m'\u001b[39m\u001b[39m+\u001b[39m alb \u001b[39m+\u001b[39m\u001b[39m'\u001b[39m\u001b[39m deseja adicionar\u001b[39m\u001b[39m\\n\u001b[39;00m\u001b[39m'\u001b[39m))\n\u001b[0;32m     24\u001b[0m \u001b[39mfor\u001b[39;00m faixa \u001b[39min\u001b[39;00m faixas:\n\u001b[1;32m---> 25\u001b[0m     cursor\u001b[39m.\u001b[39;49mexecute(\n\u001b[0;32m     26\u001b[0m                     \u001b[39m\"\u001b[39;49m\u001b[39minsert into faixa_playlist values (\u001b[39;49m\u001b[39m\"\u001b[39;49m\u001b[39m+\u001b[39;49mcod_playlist\u001b[39m+\u001b[39;49m\u001b[39m\"\u001b[39;49m\u001b[39m,\u001b[39;49m\u001b[39m\"\u001b[39;49m\u001b[39m+\u001b[39;49mfaixa\u001b[39m+\u001b[39;49m\u001b[39m\"\u001b[39;49m\u001b[39m,0,\u001b[39;49m\u001b[39m'\u001b[39;49m\u001b[39m01/11/2000\u001b[39;49m\u001b[39m'\u001b[39;49m\u001b[39m)\u001b[39;49m\u001b[39m\"\u001b[39;49m)\n\u001b[0;32m     27\u001b[0m     rows \u001b[39m=\u001b[39m  cursor\u001b[39m.\u001b[39mfetchall()\n\u001b[0;32m     28\u001b[0m     \u001b[39mfor\u001b[39;00m row \u001b[39min\u001b[39;00m rows :\n",
      "\u001b[1;31mIntegrityError\u001b[0m: ('23000', '[23000] [Microsoft][ODBC Driver 17 for SQL Server][SQL Server]A instrução INSERT conflitou com a restrição do FOREIGN KEY \"fk_cod_playlist_Faixa_Playlist\". O conflito ocorreu no banco de dados \"SpotPer\", tabela \"dbo.playlist\", column \\'cod_playlist\\'. (547) (SQLExecDirectW); [23000] [Microsoft][ODBC Driver 17 for SQL Server][SQL Server]A instrução foi finalizada. (3621)')"
     ]
    }
   ],
   "source": [
    "import pyodbc \n",
    "# Some other example server values are\n",
    "# server = 'localhost\\sqlexpress' # for a named instance\n",
    "# server = 'myserver,port' # to specify an alternate port\n",
    "# Trusted Connection to Named Instance\n",
    "#cnxn = pyodbc.connect('DRIVER={ODBC Driver 17 for SQL Server};SERVER=NIC_FW-01;DATABASE=SpotPer;Trusted_Connection=yes;')\n",
    "cnxn = pyodbc.connect('DRIVER={ODBC Driver 17 for SQL Server};SERVER=LUCAS-G15;DATABASE=SpotPer;Trusted_Connection=yes;')\n",
    "cursor = cnxn.cursor()\n",
    "\n",
    "\n",
    "\n",
    "def criarPlaylist():\n",
    "    cod_playlist, nome_playlist=(input('Informe qual será o código e o nome da playlist que será criada\\n'))\n",
    "    cursor.execute(\n",
    "                    \"insert into playlist values (1,'00:00:00','10/10/2000','Playlistmassa')\"\n",
    "    )\n",
    "\n",
    "\n",
    "    cursor.execute(\n",
    "                    'select a.cod_album, a.descri, f.num_faixa, f.descri from album a inner join faixa f on a.cod_album=f.cod_album'\n",
    "    )\n",
    "    rows =  cursor.fetchall()\n",
    "    print('Os seguintes Álbuns e suas faixas estão presentes no banco de dados:\\n')\n",
    "    for row in rows :\n",
    "        print(\"Código do Álbum: %d  Descrição do álbum: %s  Número da faixa: %d Nome da faixa: %s\\n\" %(row[0],row[1],row[2],row[3]))\n",
    "        cursor.fetchone()\n",
    "\n",
    "    alb=(input('Informe qual Álbum deseja adicionar\\n'))\n",
    "    faixas=(input('Informe quais faixas do Álbum '+ alb +' deseja adicionar\\n'))\n",
    "    for faixa in faixas:\n",
    "        cursor.execute(\n",
    "                        \"insert into faixa_playlist values (\"+cod_playlist+\",\"+faixa+\",0,'01/11/2000')\")\n",
    "        rows =  cursor.fetchall()\n",
    "        for row in rows :\n",
    "            print(row)\n",
    "            cursor.fetchone()\n",
    "    \n",
    "\n",
    "def alterarPlaylist():\n",
    "\n",
    "    cursor.execute(...)\n",
    "\n",
    "    \n",
    "\n",
    "\n",
    "\n",
    "#cursor.execute(\"SELECT * from Aluno\") \n",
    "#row = cursor.fetchone() \n",
    "#while row: \n",
    "#    print(row[0])\n",
    "#    row = cursor.fetchone()\n",
    "\n",
    "\n",
    "state = (input(  'FBD- SpotPer\\n'\n",
    "        '1 - Criar playlist'\n",
    "        '2 - Alterar Playlist'))\n",
    "\n",
    "if (state=='1'):\n",
    "    print(state)\n",
    "    criarPlaylist()\n",
    "elif (state=='2'):\n",
    "    alterarPlaylist()\n",
    "\n",
    "\n"
   ]
  }
 ],
 "metadata": {
  "kernelspec": {
   "display_name": "Python 3",
   "language": "python",
   "name": "python3"
  },
  "language_info": {
   "codemirror_mode": {
    "name": "ipython",
    "version": 3
   },
   "file_extension": ".py",
   "mimetype": "text/x-python",
   "name": "python",
   "nbconvert_exporter": "python",
   "pygments_lexer": "ipython3",
   "version": "3.10.9"
  },
  "orig_nbformat": 4,
  "vscode": {
   "interpreter": {
    "hash": "cc2a200e1e6dab10c4dc3986f0e7a998296447c993c26561a1bd050a849d8214"
   }
  }
 },
 "nbformat": 4,
 "nbformat_minor": 2
}
