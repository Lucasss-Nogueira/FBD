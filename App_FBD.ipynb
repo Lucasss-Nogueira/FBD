{
 "cells": [
  {
   "cell_type": "code",
   "execution_count": 7,
   "metadata": {},
   "outputs": [
    {
     "name": "stdout",
     "output_type": "stream",
     "text": [
      "1\n",
      "Os seguintes Álbuns e suas faixas estão presentes no banco de dados:\n",
      "\n"
     ]
    }
   ],
   "source": [
    "import pyodbc \n",
    "# Some other example server values are\n",
    "# server = 'localhost\\sqlexpress' # for a named instance\n",
    "# server = 'myserver,port' # to specify an alternate port\n",
    "# Trusted Connection to Named Instance\n",
    "#cnxn = pyodbc.connect('DRIVER={ODBC Driver 17 for SQL Server};SERVER=NIC_FW-01;DATABASE=SpotPer;Trusted_Connection=yes;')\n",
    "cnxn = pyodbc.connect('DRIVER={ODBC Driver 17 for SQL Server};SERVER=LUCAS-G15;DATABASE=SpotPer;Trusted_Connection=yes;')\n",
    "cursor = cnxn.cursor()\n",
    "\n",
    "def criarPlaylist():\n",
    "    \n",
    "    cursor.execute(\n",
    "                    'select a.cod_album, f.num_faixa, f.descri from album a inner join faixa f on a.cod_album=f.cod_album')\n",
    "    row =  cursor.fetchone()\n",
    "    print('Os seguintes Álbuns e suas faixas estão presentes no banco de dados:\\n')\n",
    "    while row:\n",
    "        print(row)\n",
    "        cursor.fetchone()\n",
    "\n",
    "    input('')\n",
    "\n",
    "\n",
    "\n",
    "\n",
    "#cursor.execute(\"SELECT * from Aluno\") \n",
    "#row = cursor.fetchone() \n",
    "#while row: \n",
    "#    print(row[0])\n",
    "#    row = cursor.fetchone()\n",
    "\n",
    "\n",
    "state = int(input(  'FBD- SpotPer\\n'\n",
    "        '1 - Criar playlist'\n",
    "        '2 - Alterar Playlist'))\n",
    "\n",
    "if (state==1):\n",
    "    print(state)\n",
    "    criarPlaylist()\n",
    "\n",
    "\n"
   ]
  }
 ],
 "metadata": {
  "kernelspec": {
   "display_name": "Python 3",
   "language": "python",
   "name": "python3"
  },
  "language_info": {
   "codemirror_mode": {
    "name": "ipython",
    "version": 3
   },
   "file_extension": ".py",
   "mimetype": "text/x-python",
   "name": "python",
   "nbconvert_exporter": "python",
   "pygments_lexer": "ipython3",
   "version": "3.10.9"
  },
  "orig_nbformat": 4,
  "vscode": {
   "interpreter": {
    "hash": "4deb986f3ce6d39d52ae36d5b72d27b1f73a8b6b686c07859b235a0545bfc1d1"
   }
  }
 },
 "nbformat": 4,
 "nbformat_minor": 2
}
