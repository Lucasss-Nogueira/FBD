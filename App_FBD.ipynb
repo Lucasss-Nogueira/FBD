{
 "cells": [
  {
   "cell_type": "code",
   "execution_count": 1,
   "metadata": {},
   "outputs": [
    {
     "name": "stdout",
     "output_type": "stream",
     "text": [
      "1\n",
      "A playlist Luli de código 24 foi criada.\n",
      "\n",
      "Os seguintes Álbuns e suas faixas estão presentes no banco de dados:\n",
      "\n",
      "Código do Álbum: 2  Descrição do álbum: album mt paia  Número da faixa: 1 Nome da faixa: HelloMusic\n",
      "\n",
      "Opcao invalida\n",
      "\n"
     ]
    },
    {
     "ename": "ValueError",
     "evalue": "invalid literal for int() with base 10: ''",
     "output_type": "error",
     "traceback": [
      "\u001b[1;31m---------------------------------------------------------------------------\u001b[0m",
      "\u001b[1;31mValueError\u001b[0m                                Traceback (most recent call last)",
      "Cell \u001b[1;32mIn [1], line 78\u001b[0m\n\u001b[0;32m     74\u001b[0m     \u001b[39m#cursor.execute(...)\u001b[39;00m\n\u001b[0;32m     77\u001b[0m state\u001b[39m=\u001b[39m\u001b[39m'\u001b[39m\u001b[39m5\u001b[39m\u001b[39m'\u001b[39m\n\u001b[1;32m---> 78\u001b[0m \u001b[39mwhile\u001b[39;00m (\u001b[39mint\u001b[39;49m(state)\u001b[39m>\u001b[39m\u001b[39m0\u001b[39m):\n\u001b[0;32m     79\u001b[0m     state \u001b[39m=\u001b[39m (\u001b[39minput\u001b[39m(  \u001b[39m'\u001b[39m\u001b[39mFBD- SpotPer\u001b[39m\u001b[39m\\n\u001b[39;00m\u001b[39m'\u001b[39m\n\u001b[0;32m     80\u001b[0m             \u001b[39m'\u001b[39m\u001b[39m1 - Criar playlist\u001b[39m\u001b[39m'\u001b[39m\n\u001b[0;32m     81\u001b[0m             \u001b[39m'\u001b[39m\u001b[39m2 - Alterar Playlist\u001b[39m\u001b[39m'\u001b[39m))\n\u001b[0;32m     83\u001b[0m     \u001b[39mif\u001b[39;00m (state\u001b[39m==\u001b[39m\u001b[39m'\u001b[39m\u001b[39m1\u001b[39m\u001b[39m'\u001b[39m):\n",
      "\u001b[1;31mValueError\u001b[0m: invalid literal for int() with base 10: ''"
     ]
    }
   ],
   "source": [
    "import pyodbc \n",
    "# Some other example server values are\n",
    "# server = 'localhost\\sqlexpress' # for a named instance\n",
    "# server = 'myserver,port' # to specify an alternate port\n",
    "# Trusted Connection to Named Instance\n",
    "#cnxn = pyodbc.connect('DRIVER={ODBC Driver 17 for SQL Server};SERVER=NIC_FW-01;DATABASE=SpotPer;Trusted_Connection=yes;')\n",
    "cnxn = pyodbc.connect('DRIVER={ODBC Driver 17 for SQL Server};SERVER=LUCAS-G15;DATABASE=SpotPer;Trusted_Connection=yes;')\n",
    "cursor = cnxn.cursor()\n",
    "\n",
    "\n",
    "\n",
    "def criarPlaylist():\n",
    "    cod_playlist=(input('Informe qual será o código da playlist que será criada\\n'))\n",
    "    nome_playlist=(input('Informe qual será o nome da playlist que será criada\\n'))\n",
    "    cursor.execute(\n",
    "                    \"insert into playlist values (%s,'00:00:00','10/10/2000','%s')\" %(cod_playlist,nome_playlist)\n",
    "    )\n",
    "    print(\"A playlist %s de código %s foi criada.\\n\"%(nome_playlist,cod_playlist))\n",
    "    cnxn.commit()\n",
    "    cursor.execute(\n",
    "                    'select a.cod_album, a.descri, f.num_faixa, f.descri from album a inner join faixa f on a.cod_album=f.cod_album'\n",
    "    )\n",
    "    rows =  cursor.fetchall()\n",
    "    print('Os seguintes Álbuns e suas faixas estão presentes no banco de dados:\\n')\n",
    "    for row in rows :\n",
    "        print(\"Código do Álbum: %d  Descrição do álbum: %s  Número da faixa: %d Nome da faixa: %s\\n\" %(row[0],row[1],row[2],row[3]))\n",
    "        cursor.fetchone()\n",
    "\n",
    "    alb=(input('Informe qual Álbum deseja adicionar\\n'))\n",
    "    faixas=(input('Informe quais faixas do Álbum '+ alb +' deseja adicionar\\n'))\n",
    "    for faixa in faixas:\n",
    "        cursor.execute(\n",
    "                        \"insert into faixa_playlist values (\"+cod_playlist+\",\"+faixa+\",0,'01/11/2000')\")\n",
    "        cnxn.commit()\n",
    "\n",
    "def alterarPlaylist():\n",
    "\n",
    "    cursor.execute('SELECT cod_playlist,nome FROM playlist')\n",
    "    rows =  cursor.fetchall()\n",
    "    print('As seguintes Playlists estão presentes no banco de dados:\\n')\n",
    "    for row in rows :\n",
    "        print(row)\n",
    "        cursor.fetchone()\n",
    "\n",
    "    alb=(input('Informe qual Playlist deseja editar\\n'))\n",
    "    print('A playlist ' +alb+ ' contem as seguintes musicas:\\n')\n",
    "    cursor.execute('SELECT f.descri FROM faixa f, faixa_playlist fp, playlist p where f.num_faixa = fp.num_faixa and fp.cod_playlist = p.cod_playlist and p.cod_playlist =%s'% (alb))\n",
    "    rows=cursor.fetchall()\n",
    "    for row in rows :\n",
    "        print(row[0])\n",
    "        cursor.fetchone()\n",
    "\n",
    "    action=(input('1 - Inserir musicas na playlist '+alb+\n",
    "        ' 2 - Remover musicas na playlist '+alb))\n",
    "\n",
    "    ### inserir musicas\n",
    "    if(action =='1'):\n",
    "        mins=(input('Informe o numero da Musica deseja inserir\\n'))\n",
    "        # qt_tocada = (input('Informe a quantidade de vezes que a Musica foi tocada\\n'))\n",
    "        # dt_tocada = (input('Informe a ultima vez que Musica foi tocada\\n'))\n",
    "        cursor.execute('insert into faixa_playlist values(%s,%s,null,null)'% (alb,mins))\n",
    "\n",
    "    ### remover musicas\n",
    "    elif(action=='2'):\n",
    "        print()\n",
    "        mdel=(input('Informe qual Musica deseja apagar\\n'))\n",
    "        cursor.execute('DELETE FROM faixa_playlist where cod_playlist =%s and num_faixa = %s'% (alb,mdel))\n",
    "        # rows =  cursor.fetchall()\n",
    "        # for row in rows :\n",
    "        #     print(row)\n",
    "        #     cursor.fetchone()\n",
    "\n",
    "    cnxn.commit()\n",
    "    #cursor.execute(...)\n",
    "\n",
    "    \n",
    "state='5'\n",
    "while (int(state)>0):\n",
    "    state = (input(  'FBD- SpotPer\\n'\n",
    "            '1 - Criar playlist'\n",
    "            '2 - Alterar Playlist'))\n",
    "\n",
    "    if (state=='1'):\n",
    "        print(state)\n",
    "        criarPlaylist()\n",
    "    elif (state=='2'):\n",
    "        #mostrarPlaylist()\n",
    "        alterarPlaylist()\n",
    "    else: print(\"Opcao invalida\\n\")\n",
    "print(\"Programa encerrado\")"
   ]
  }
 ],
 "metadata": {
  "kernelspec": {
   "display_name": "Python 3",
   "language": "python",
   "name": "python3"
  },
  "language_info": {
   "codemirror_mode": {
    "name": "ipython",
    "version": 3
   },
   "file_extension": ".py",
   "mimetype": "text/x-python",
   "name": "python",
   "nbconvert_exporter": "python",
   "pygments_lexer": "ipython3",
   "version": "3.10.9"
  },
  "orig_nbformat": 4,
  "vscode": {
   "interpreter": {
    "hash": "cc2a200e1e6dab10c4dc3986f0e7a998296447c993c26561a1bd050a849d8214"
   }
  }
 },
 "nbformat": 4,
 "nbformat_minor": 2
}
