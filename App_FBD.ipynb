{
 "cells": [
  {
   "cell_type": "code",
   "execution_count": 5,
   "metadata": {},
   "outputs": [
    {
     "name": "stdout",
     "output_type": "stream",
     "text": [
      "1\n",
      "Os seguintes Álbuns e suas faixas estão presentes no banco de dados:\n",
      "\n",
      "(2, 1, 'HelloMusic')\n"
     ]
    }
   ],
   "source": [
    "import pyodbc \n",
    "# Some other example server values are\n",
    "# server = 'localhost\\sqlexpress' # for a named instance\n",
    "# server = 'myserver,port' # to specify an alternate port\n",
    "# Trusted Connection to Named Instance\n",
    "#cnxn = pyodbc.connect('DRIVER={ODBC Driver 17 for SQL Server};SERVER=NIC_FW-01;DATABASE=SpotPer;Trusted_Connection=yes;')\n",
    "cnxn = pyodbc.connect('DRIVER={ODBC Driver 17 for SQL Server};SERVER=LUCAS-G15;DATABASE=SpotPer;Trusted_Connection=yes;')\n",
    "cursor = cnxn.cursor()\n",
    "\n",
    "def criarPlaylist():\n",
    "    \n",
    "    cursor.execute(\n",
    "                    'select a.cod_album, f.num_faixa, f.descri from album a inner join faixa f on a.cod_album=f.cod_album')\n",
    "    rows =  cursor.fetchall()\n",
    "    print('Os seguintes Álbuns e suas faixas estão presentes no banco de dados:\\n')\n",
    "    for row in rows :\n",
    "        print(row)\n",
    "        cursor.fetchone()\n",
    "\n",
    "    alb=int(input('Informe qual Álbum deseja adicionar\\n'))\n",
    "    \n",
    "\n",
    "def alterarPlaylist():\n",
    "\n",
    "    cursor.execute(...)\n",
    "\n",
    "    \n",
    "\n",
    "\n",
    "\n",
    "#cursor.execute(\"SELECT * from Aluno\") \n",
    "#row = cursor.fetchone() \n",
    "#while row: \n",
    "#    print(row[0])\n",
    "#    row = cursor.fetchone()\n",
    "\n",
    "\n",
    "state = int(input(  'FBD- SpotPer\\n'\n",
    "        '1 - Criar playlist'\n",
    "        '2 - Alterar Playlist'))\n",
    "\n",
    "if (state==1):\n",
    "    print(state)\n",
    "    criarPlaylist()\n",
    "elif (state==2):\n",
    "    alterarPlaylist()\n",
    "\n",
    "\n"
   ]
  }
 ],
 "metadata": {
  "kernelspec": {
   "display_name": "Python 3",
   "language": "python",
   "name": "python3"
  },
  "language_info": {
   "codemirror_mode": {
    "name": "ipython",
    "version": 3
   },
   "file_extension": ".py",
   "mimetype": "text/x-python",
   "name": "python",
   "nbconvert_exporter": "python",
   "pygments_lexer": "ipython3",
   "version": "3.10.9"
  },
  "orig_nbformat": 4,
  "vscode": {
   "interpreter": {
    "hash": "cc2a200e1e6dab10c4dc3986f0e7a998296447c993c26561a1bd050a849d8214"
   }
  }
 },
 "nbformat": 4,
 "nbformat_minor": 2
}
