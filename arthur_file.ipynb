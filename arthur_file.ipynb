{
 "cells": [
  {
   "cell_type": "code",
   "execution_count": 14,
   "metadata": {},
   "outputs": [
    {
     "name": "stdout",
     "output_type": "stream",
     "text": [
      "As seguintes Playlists estão presentes no banco de dados:\n",
      "\n",
      "(1, 'JP')\n",
      "(5, 'SoAsMelhores')\n",
      "A playlist 1 contem as seguintes musicas:\n",
      "\n",
      "Código da Faixa 1\n",
      "Nome da faixa: HelloMusic\n",
      "\n",
      "\n"
     ]
    },
    {
     "ename": "IntegrityError",
     "evalue": "('23000', \"[23000] [Microsoft][ODBC SQL Server Driver][SQL Server]Não é possível inserir uma linha de chave duplicada no objeto 'dbo.v1' com índice exclusivo 'I_VP'. O valor de chave duplicada é (JP). (2601) (SQLExecDirectW); [23000] [Microsoft][ODBC SQL Server Driver][SQL Server]A instrução foi finalizada. (3621)\")",
     "output_type": "error",
     "traceback": [
      "\u001b[1;31m---------------------------------------------------------------------------\u001b[0m",
      "\u001b[1;31mIntegrityError\u001b[0m                            Traceback (most recent call last)",
      "Cell \u001b[1;32mIn[14], line 89\u001b[0m\n\u001b[0;32m     86\u001b[0m         criarPlaylist()\n\u001b[0;32m     87\u001b[0m     \u001b[39melif\u001b[39;00m (state\u001b[39m==\u001b[39m\u001b[39m'\u001b[39m\u001b[39m2\u001b[39m\u001b[39m'\u001b[39m):\n\u001b[0;32m     88\u001b[0m         \u001b[39m#mostrarPlaylist()\u001b[39;00m\n\u001b[1;32m---> 89\u001b[0m         alterarPlaylist()\n\u001b[0;32m     90\u001b[0m     \u001b[39melse\u001b[39;00m: \u001b[39mprint\u001b[39m(\u001b[39m\"\u001b[39m\u001b[39mOpcao invalida\u001b[39m\u001b[39m\\n\u001b[39;00m\u001b[39m\"\u001b[39m)\n\u001b[0;32m     91\u001b[0m \u001b[39mprint\u001b[39m(\u001b[39m\"\u001b[39m\u001b[39mPrograma encerrado\u001b[39m\u001b[39m\"\u001b[39m)\n",
      "Cell \u001b[1;32mIn[14], line 62\u001b[0m, in \u001b[0;36malterarPlaylist\u001b[1;34m()\u001b[0m\n\u001b[0;32m     59\u001b[0m     mins\u001b[39m=\u001b[39m(\u001b[39minput\u001b[39m(\u001b[39m'\u001b[39m\u001b[39mInforme o numero da Musica deseja inserir\u001b[39m\u001b[39m\\n\u001b[39;00m\u001b[39m'\u001b[39m))\n\u001b[0;32m     60\u001b[0m     \u001b[39m# qt_tocada = (input('Informe a quantidade de vezes que a Musica foi tocada\\n'))\u001b[39;00m\n\u001b[0;32m     61\u001b[0m     \u001b[39m# dt_tocada = (input('Informe a ultima vez que Musica foi tocada\\n'))\u001b[39;00m\n\u001b[1;32m---> 62\u001b[0m     cursor\u001b[39m.\u001b[39;49mexecute(\u001b[39m'\u001b[39;49m\u001b[39minsert into faixa_playlist values(\u001b[39;49m\u001b[39m%s\u001b[39;49;00m\u001b[39m,\u001b[39;49m\u001b[39m%s\u001b[39;49;00m\u001b[39m,null,null)\u001b[39;49m\u001b[39m'\u001b[39;49m\u001b[39m%\u001b[39;49m (alb,mins))\n\u001b[0;32m     64\u001b[0m \u001b[39m### remover musicas\u001b[39;00m\n\u001b[0;32m     65\u001b[0m \u001b[39melif\u001b[39;00m(action\u001b[39m==\u001b[39m\u001b[39m'\u001b[39m\u001b[39m2\u001b[39m\u001b[39m'\u001b[39m):\n",
      "\u001b[1;31mIntegrityError\u001b[0m: ('23000', \"[23000] [Microsoft][ODBC SQL Server Driver][SQL Server]Não é possível inserir uma linha de chave duplicada no objeto 'dbo.v1' com índice exclusivo 'I_VP'. O valor de chave duplicada é (JP). (2601) (SQLExecDirectW); [23000] [Microsoft][ODBC SQL Server Driver][SQL Server]A instrução foi finalizada. (3621)\")"
     ]
    }
   ],
   "source": [
    "import pyodbc \n",
    "# Some other example server values are\n",
    "# server = 'localhost\\sqlexpress' # for a named instance\n",
    "# server = 'myserver,port' # to specify an alternate port\n",
    "# Trusted Connection to Named Instance\n",
    "#cnxn = pyodbc.connect('DRIVER={ODBC Driver 17 for SQL Server};SERVER=NIC_FW-01;DATABASE=SpotPer;Trusted_Connection=yes;')\n",
    "cnxn = pyodbc.connect('DRIVER={SQL Server};SERVER=DESKTOP-HBV3BLB;DATABASE=SpotPer;Trusted_Connection=yes;')\n",
    "#cnxn = pyodbc.connect('DRIVER={ODBC Driver 17 for SQL Server};SERVER=LUCAS-G15;DATABASE=SpotPer;Trusted_Connection=yes;')\n",
    "cursor = cnxn.cursor()\n",
    "\n",
    "\n",
    "\n",
    "def criarPlaylist():\n",
    "    cod_playlist=(input('Informe qual será o código da playlist que será criada\\n'))\n",
    "    nome_playlist=(input('Informe qual será o nome da playlist que será criada\\n'))\n",
    "    cursor.execute(\n",
    "                    \"insert into playlist values (%s,'00:00:00','10/10/2000','%s')\" %(cod_playlist,nome_playlist)\n",
    "    )\n",
    "    print(\"A playlist %s de código %s foi criada.\\n\"%(nome_playlist,cod_playlist))\n",
    "    cnxn.commit()\n",
    "    cursor.execute(\n",
    "                    'select a.cod_album, a.descri, f.num_faixa, f.descri from album a inner join faixa f on a.cod_album=f.cod_album'\n",
    "    )\n",
    "    rows =  cursor.fetchall()\n",
    "    print('Os seguintes Álbuns e suas faixas estão presentes no banco de dados:\\n')\n",
    "    for row in rows :\n",
    "        print(\"Código do Álbum: %d  Descrição do álbum: %s  Número da faixa: %d Nome da faixa: %s\\n\" %(row[0],row[1],row[2],row[3]))\n",
    "        cursor.fetchone()\n",
    "\n",
    "    alb=(input('Informe qual Álbum deseja adicionar\\n'))\n",
    "    faixas=(input('Informe quais faixas do Álbum '+ alb +' deseja adicionar\\n'))\n",
    "    for faixa in faixas:\n",
    "        cursor.execute(\n",
    "                        \"insert into faixa_playlist values (\"+cod_playlist+\",\"+faixa+\",0,'01/11/2000')\")\n",
    "        cnxn.commit()\n",
    "\n",
    "def alterarPlaylist():\n",
    "\n",
    "    cursor.execute('SELECT cod_playlist,nome FROM playlist')\n",
    "    rows =  cursor.fetchall()\n",
    "    print('As seguintes Playlists estão presentes no banco de dados:\\n')\n",
    "    for row in rows :\n",
    "        print(row)\n",
    "        cursor.fetchone()\n",
    "\n",
    "    alb=(input('Informe qual Playlist deseja editar\\n'))\n",
    "    print('A playlist ' +alb+ ' contem as seguintes musicas:\\n')\n",
    "    cursor.execute('SELECT f.num_faixa,f.descri FROM faixa f, faixa_playlist fp, playlist p where f.num_faixa = fp.num_faixa and fp.cod_playlist = p.cod_playlist and p.cod_playlist =%s'% (alb))\n",
    "    rows=cursor.fetchall()\n",
    "    for row in rows :\n",
    "        print(\"Código da Faixa %s\\nNome da faixa: %s\\n\\n\"%(row[0],row[1]))\n",
    "        cursor.fetchone()\n",
    "\n",
    "    action=(input('1 - Inserir musicas na playlist '+alb+\n",
    "        ' 2 - Remover musicas na playlist '+alb))\n",
    "\n",
    "    ### inserir musicas\n",
    "    if(action =='1'):\n",
    "        mins=(input('Informe o numero da Musica deseja inserir\\n'))\n",
    "        # qt_tocada = (input('Informe a quantidade de vezes que a Musica foi tocada\\n'))\n",
    "        # dt_tocada = (input('Informe a ultima vez que Musica foi tocada\\n'))\n",
    "        cursor.execute('insert into faixa_playlist values(%s,%s,null,null)'% (alb,mins))\n",
    "\n",
    "    ### remover musicas\n",
    "    elif(action=='2'):\n",
    "        print()\n",
    "        mdel=(input('Informe qual Musica deseja apagar\\n'))\n",
    "        cursor.execute('DELETE FROM faixa_playlist where cod_playlist =%s and num_faixa = %s'% (alb,mdel))\n",
    "        # rows =  cursor.fetchall()\n",
    "        # for row in rows :\n",
    "        #     print(row)\n",
    "        #     cursor.fetchone()\n",
    "\n",
    "    cnxn.commit()\n",
    "    #cursor.execute(...)\n",
    "\n",
    "    \n",
    "state='5'\n",
    "while (int(state)>0):\n",
    "    state = (input(  'FBD- SpotPer\\n'\n",
    "            '1 - Criar playlist'\n",
    "            '2 - Alterar Playlist'))\n",
    "\n",
    "    if (state=='1'):\n",
    "        print(state)\n",
    "        criarPlaylist()\n",
    "    elif (state=='2'):\n",
    "        #mostrarPlaylist()\n",
    "        alterarPlaylist()\n",
    "    else: print(\"Opcao invalida\\n\")\n",
    "print(\"Programa encerrado\")"
   ]
  }
 ],
 "metadata": {
  "kernelspec": {
   "display_name": "Python 3",
   "language": "python",
   "name": "python3"
  },
  "language_info": {
   "codemirror_mode": {
    "name": "ipython",
    "version": 3
   },
   "file_extension": ".py",
   "mimetype": "text/x-python",
   "name": "python",
   "nbconvert_exporter": "python",
   "pygments_lexer": "ipython3",
   "version": "3.10.4"
  },
  "orig_nbformat": 4,
  "vscode": {
   "interpreter": {
    "hash": "afb734500600fd355917ca529030176ea0ca205570884b88f2f6f7d791fd3fbe"
   }
  }
 },
 "nbformat": 4,
 "nbformat_minor": 2
}
