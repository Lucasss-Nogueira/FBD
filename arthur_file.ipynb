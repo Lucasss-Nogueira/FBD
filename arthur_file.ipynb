{
 "cells": [
  {
   "cell_type": "code",
   "execution_count": 4,
   "metadata": {},
   "outputs": [
    {
     "name": "stdout",
     "output_type": "stream",
     "text": [
      "As seguintes Playlists estão presentes no banco de dados:\n",
      "\n",
      "(1, 'JP')\n",
      "A playlist 1 contem as seguintes musicas:\n",
      "\n",
      "HelloMusic\n",
      "\n",
      "As seguintes Playlists estão presentes no banco de dados:\n",
      "\n",
      "(1, 'JP')\n",
      "A playlist 1 contem as seguintes musicas:\n",
      "\n",
      "Opcao invalida\n",
      "\n",
      "Programa encerrado\n"
     ]
    }
   ],
   "source": [
    "import pyodbc \n",
    "# Some other example server values are\n",
    "# server = 'localhost\\sqlexpress' # for a named instance\n",
    "# server = 'myserver,port' # to specify an alternate port\n",
    "# Trusted Connection to Named Instance\n",
    "cnxn = pyodbc.connect('DRIVER={SQL Server};SERVER=DESKTOP-HBV3BLB;DATABASE=SpotPer;Trusted_Connection=yes;')\n",
    "#cnxn = pyodbc.connect('DRIVER={ODBC Driver 17 for SQL Server};SERVER=LUCAS-G15;DATABASE=SpotPer;Trusted_Connection=yes;')\n",
    "cursor = cnxn.cursor()\n",
    "\n",
    "def criarPlaylist():\n",
    "    \n",
    "    cursor.execute(\n",
    "                    'select a.cod_album, f.num_faixa, f.descri from album a inner join faixa f on a.cod_album=f.cod_album')\n",
    "    rows =  cursor.fetchall()\n",
    "    print('Os seguintes Álbuns e suas faixas estão presentes no banco de dados:\\n')\n",
    "    for row in rows :\n",
    "        print(row)\n",
    "        cursor.fetchone()\n",
    "\n",
    "    alb=(input('Informe qual Álbum deseja adicionar\\n'))\n",
    "    \n",
    "\n",
    "def alterarPlaylist():\n",
    "\n",
    "    cursor.execute('SELECT cod_playlist,nome FROM playlist')\n",
    "    rows =  cursor.fetchall()\n",
    "    print('As seguintes Playlists estão presentes no banco de dados:\\n')\n",
    "    for row in rows :\n",
    "        print(row)\n",
    "        cursor.fetchone()\n",
    "\n",
    "    alb=(input('Informe qual Playlist deseja editar\\n'))\n",
    "    print('A playlist ' +alb+ ' contem as seguintes musicas:\\n')\n",
    "    cursor.execute('SELECT f.descri FROM faixa f, faixa_playlist fp, playlist p where f.num_faixa = fp.num_faixa and fp.cod_playlist = p.cod_playlist and p.cod_playlist =%s'% (alb))\n",
    "    rows=cursor.fetchall()\n",
    "    for row in rows :\n",
    "        print(row[0])\n",
    "        cursor.fetchone()\n",
    "\n",
    "    action=(input('1 - Inserir musicas na playlist '+alb+\n",
    "        ' 2 - Remover musicas na playlist '+alb))\n",
    "\n",
    "    ### inserir musicas\n",
    "    if(action =='1'):\n",
    "        mins=(input('Informe o numero da Musica deseja inserir\\n'))\n",
    "        # qt_tocada = (input('Informe a quantidade de vezes que a Musica foi tocada\\n'))\n",
    "        # dt_tocada = (input('Informe a ultima vez que Musica foi tocada\\n'))\n",
    "        cursor.execute('insert into faixa_playlist values(%s,%s,null,null)'% (alb,mins))\n",
    "\n",
    "    ### remover musicas\n",
    "    elif(action=='2'):\n",
    "        print()\n",
    "        mdel=(input('Informe qual Musica deseja apagar\\n'))\n",
    "        cursor.execute('DELETE FROM faixa_playlist where cod_playlist =%s and num_faixa = %s'% (alb,mdel))\n",
    "        # rows =  cursor.fetchall()\n",
    "        # for row in rows :\n",
    "        #     print(row)\n",
    "        #     cursor.fetchone()\n",
    "\n",
    "    cnxn.commit()\n",
    "    #cursor.execute(...)\n",
    "\n",
    "    \n",
    "state='5'\n",
    "while (int(state)>0):\n",
    "    state = (input(  'FBD- SpotPer\\n'\n",
    "            '1 - Criar playlist'\n",
    "            '2 - Alterar Playlist'))\n",
    "\n",
    "    if (state=='1'):\n",
    "        print(state)\n",
    "        criarPlaylist()\n",
    "    elif (state=='2'):\n",
    "        #mostrarPlaylist()\n",
    "        alterarPlaylist()\n",
    "    else: print(\"Opcao invalida\\n\")\n",
    "print(\"Programa encerrado\")\n"
   ]
  }
 ],
 "metadata": {
  "kernelspec": {
   "display_name": "Python 3",
   "language": "python",
   "name": "python3"
  },
  "language_info": {
   "codemirror_mode": {
    "name": "ipython",
    "version": 3
   },
   "file_extension": ".py",
   "mimetype": "text/x-python",
   "name": "python",
   "nbconvert_exporter": "python",
   "pygments_lexer": "ipython3",
   "version": "3.10.4"
  },
  "orig_nbformat": 4,
  "vscode": {
   "interpreter": {
    "hash": "afb734500600fd355917ca529030176ea0ca205570884b88f2f6f7d791fd3fbe"
   }
  }
 },
 "nbformat": 4,
 "nbformat_minor": 2
}
