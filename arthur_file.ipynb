{
 "cells": [
  {
   "cell_type": "code",
   "execution_count": 14,
   "metadata": {},
   "outputs": [
    {
     "ename": "TypeError",
     "evalue": "'>' not supported between instances of 'str' and 'int'",
     "output_type": "error",
     "traceback": [
      "\u001b[1;31m---------------------------------------------------------------------------\u001b[0m",
      "\u001b[1;31mTypeError\u001b[0m                                 Traceback (most recent call last)",
      "Cell \u001b[1;32mIn[14], line 62\u001b[0m\n\u001b[0;32m     58\u001b[0m     \u001b[39m#cursor.execute(...)\u001b[39;00m\n\u001b[0;32m     61\u001b[0m state\u001b[39m=\u001b[39m\u001b[39m'\u001b[39m\u001b[39m5\u001b[39m\u001b[39m'\u001b[39m\n\u001b[1;32m---> 62\u001b[0m \u001b[39mwhile\u001b[39;00m (state\u001b[39m>\u001b[39;49m\u001b[39m0\u001b[39;49m):\n\u001b[0;32m     63\u001b[0m     state \u001b[39m=\u001b[39m (\u001b[39minput\u001b[39m(  \u001b[39m'\u001b[39m\u001b[39mFBD- SpotPer\u001b[39m\u001b[39m\\n\u001b[39;00m\u001b[39m'\u001b[39m\n\u001b[0;32m     64\u001b[0m             \u001b[39m'\u001b[39m\u001b[39m1 - Criar playlist\u001b[39m\u001b[39m'\u001b[39m\n\u001b[0;32m     65\u001b[0m             \u001b[39m'\u001b[39m\u001b[39m2 - Alterar Playlist\u001b[39m\u001b[39m'\u001b[39m))\n\u001b[0;32m     67\u001b[0m     \u001b[39mif\u001b[39;00m (state\u001b[39m==\u001b[39m\u001b[39m'\u001b[39m\u001b[39m1\u001b[39m\u001b[39m'\u001b[39m):\n",
      "\u001b[1;31mTypeError\u001b[0m: '>' not supported between instances of 'str' and 'int'"
     ]
    }
   ],
   "source": [
    "import pyodbc \n",
    "# Some other example server values are\n",
    "# server = 'localhost\\sqlexpress' # for a named instance\n",
    "# server = 'myserver,port' # to specify an alternate port\n",
    "# Trusted Connection to Named Instance\n",
    "cnxn = pyodbc.connect('DRIVER={SQL Server};SERVER=DESKTOP-HBV3BLB;DATABASE=SpotPer;Trusted_Connection=yes;')\n",
    "#cnxn = pyodbc.connect('DRIVER={ODBC Driver 17 for SQL Server};SERVER=LUCAS-G15;DATABASE=SpotPer;Trusted_Connection=yes;')\n",
    "cursor = cnxn.cursor()\n",
    "\n",
    "def criarPlaylist():\n",
    "    \n",
    "    cursor.execute(\n",
    "                    'select a.cod_album, f.num_faixa, f.descri from album a inner join faixa f on a.cod_album=f.cod_album')\n",
    "    rows =  cursor.fetchall()\n",
    "    print('Os seguintes Álbuns e suas faixas estão presentes no banco de dados:\\n')\n",
    "    for row in rows :\n",
    "        print(row)\n",
    "        cursor.fetchone()\n",
    "\n",
    "    alb=(input('Informe qual Álbum deseja adicionar\\n'))\n",
    "    \n",
    "\n",
    "def alterarPlaylist():\n",
    "\n",
    "    cursor.execute('SELECT cod_playlist,nome FROM playlist')\n",
    "    rows =  cursor.fetchall()\n",
    "    print('As seguintes Playlists estão presentes no banco de dados:\\n')\n",
    "    for row in rows :\n",
    "        print(row)\n",
    "        cursor.fetchone()\n",
    "\n",
    "    alb=(input('Informe qual Playlist deseja editar\\n'))\n",
    "    print('A playlist ' +alb+ ' contem as seguintes musicas:\\n')\n",
    "    cursor.execute('SELECT f.descri FROM faixa f, faixa_playlist fp, playlist p where f.num_faixa = fp.num_faixa and fp.cod_playlist = p.cod_playlist and p.cod_playlist =%s'% (alb))\n",
    "    rows=cursor.fetchall()\n",
    "    for row in rows :\n",
    "        print(row[0])\n",
    "        cursor.fetchone()\n",
    "\n",
    "    action=(input('1 - Inserir musicas na playlist '+alb+\n",
    "        ' 2 - Remover musicas na playlist '+alb))\n",
    "\n",
    "    ### inserir musicas\n",
    "    if(action =='1'):\n",
    "        pass\n",
    "\n",
    "    ### remover musicas\n",
    "    elif(action=='2'):\n",
    "        print()\n",
    "        mdel=(input('Informe qual Musica deseja apagar\\n'))\n",
    "        cursor.execute('DELETE FROM faixa_playlist where cod_playlist =%s and num_faixa = %s'% (alb,mdel))\n",
    "        # rows =  cursor.fetchall()\n",
    "        # for row in rows :\n",
    "        #     print(row)\n",
    "        #     cursor.fetchone()\n",
    "\n",
    "    cnxn.commit()\n",
    "    #cursor.execute(...)\n",
    "\n",
    "    \n",
    "state='5'\n",
    "while (int(state)>0):\n",
    "    state = (input(  'FBD- SpotPer\\n'\n",
    "            '1 - Criar playlist'\n",
    "            '2 - Alterar Playlist'))\n",
    "\n",
    "    if (state=='1'):\n",
    "        print(state)\n",
    "        criarPlaylist()\n",
    "    elif (state=='2'):\n",
    "        #mostrarPlaylist()\n",
    "        alterarPlaylist()\n",
    "    else: print(\"Opcao invalida\\n\")\n",
    "print(\"Programa encerrado\")\n"
   ]
  }
 ],
 "metadata": {
  "kernelspec": {
   "display_name": "Python 3",
   "language": "python",
   "name": "python3"
  },
  "language_info": {
   "codemirror_mode": {
    "name": "ipython",
    "version": 3
   },
   "file_extension": ".py",
   "mimetype": "text/x-python",
   "name": "python",
   "nbconvert_exporter": "python",
   "pygments_lexer": "ipython3",
   "version": "3.10.4"
  },
  "orig_nbformat": 4,
  "vscode": {
   "interpreter": {
    "hash": "afb734500600fd355917ca529030176ea0ca205570884b88f2f6f7d791fd3fbe"
   }
  }
 },
 "nbformat": 4,
 "nbformat_minor": 2
}
